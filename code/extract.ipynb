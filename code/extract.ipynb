{
 "cells": [
  {
   "cell_type": "code",
   "execution_count": null,
   "metadata": {},
   "outputs": [],
   "source": [
    "import openreview\n",
    "import time\n",
    "from selenium import webdriver\n",
    "from selenium.webdriver.common.by import By\n",
    "import pandas as pd"
   ]
  },
  {
   "cell_type": "code",
   "execution_count": null,
   "metadata": {},
   "outputs": [],
   "source": [
    "venue_id = \"NeurIPS.cc/2023/Conference\"\n",
    "username = \"\"\n",
    "password = \"\""
   ]
  },
  {
   "cell_type": "code",
   "execution_count": null,
   "metadata": {},
   "outputs": [],
   "source": [
    "client = openreview.api.OpenReviewClient(\n",
    "    baseurl='https://api2.openreview.net',\n",
    "    username=username,\n",
    "    password=password\n",
    ")"
   ]
  },
  {
   "cell_type": "code",
   "execution_count": null,
   "metadata": {},
   "outputs": [],
   "source": [
    "my_options = webdriver.ChromeOptions() \n",
    "my_options.add_argument(f\"--headless\")\n",
    "driver = webdriver.Chrome(options=my_options)\n",
    "driver.maximize_window()"
   ]
  },
  {
   "cell_type": "code",
   "execution_count": null,
   "metadata": {},
   "outputs": [],
   "source": [
    "def get_ethics_reviews(forum_id):\n",
    "    try:\n",
    "        url = 'https://openreview.net/forum?id='\n",
    "        driver.get(url + forum_id)\n",
    "\n",
    "        reviews = []\n",
    "        flags = []\n",
    "        tries = 0\n",
    "        while len(flags)==0:\n",
    "            flags = driver.find_elements(By.XPATH,'//*[contains(text(),\"Flag For Ethics Review\")]')\n",
    "            time.sleep(1)\n",
    "            tries+=1\n",
    "            if tries>=5:\n",
    "                break\n",
    "        for flag in flags:\n",
    "            value = flag.find_element(By.XPATH, \"../span\")\n",
    "            reviews.append(value.text)\n",
    "\n",
    "        return reviews\n",
    "    except Exception as e:\n",
    "        return [\"Error\"]"
   ]
  },
  {
   "cell_type": "code",
   "execution_count": null,
   "metadata": {},
   "outputs": [],
   "source": [
    "venue_group = client.get_group(venue_id)\n",
    "submission_name = venue_group.content['submission_name']['value']\n",
    "submissions = client.get_all_notes(invitation=f'{venue_id}/-/{submission_name}')"
   ]
  },
  {
   "cell_type": "code",
   "execution_count": null,
   "metadata": {},
   "outputs": [],
   "source": [
    "data = []\n",
    "for s in submissions:\n",
    "    reviews = get_ethics_reviews(s.forum)\n",
    "    data.append([s.forum] + list(reviews))"
   ]
  },
  {
   "cell_type": "code",
   "execution_count": null,
   "metadata": {},
   "outputs": [],
   "source": [
    "df = pd.DataFrame(data)\n",
    "df.to_csv(venue_id.replace(\"/\",\"_\") + \".csv\",index=False,header=False)"
   ]
  },
  {
   "cell_type": "code",
   "execution_count": null,
   "metadata": {},
   "outputs": [],
   "source": []
  }
 ],
 "metadata": {
  "kernelspec": {
   "display_name": ".venv",
   "language": "python",
   "name": "python3"
  },
  "language_info": {
   "codemirror_mode": {
    "name": "ipython",
    "version": 3
   },
   "file_extension": ".py",
   "mimetype": "text/x-python",
   "name": "python",
   "nbconvert_exporter": "python",
   "pygments_lexer": "ipython3",
   "version": "3.11.0"
  }
 },
 "nbformat": 4,
 "nbformat_minor": 2
}
